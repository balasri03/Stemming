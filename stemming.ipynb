{
  "nbformat": 4,
  "nbformat_minor": 0,
  "metadata": {
    "colab": {
      "provenance": [],
      "authorship_tag": "ABX9TyNPP7imcxGcRgtbaLEtCUv7",
      "include_colab_link": true
    },
    "kernelspec": {
      "name": "python3",
      "display_name": "Python 3"
    },
    "language_info": {
      "name": "python"
    }
  },
  "cells": [
    {
      "cell_type": "markdown",
      "metadata": {
        "id": "view-in-github",
        "colab_type": "text"
      },
      "source": [
        "<a href=\"https://colab.research.google.com/github/balasri03/Stemming/blob/main/stemming.ipynb\" target=\"_parent\"><img src=\"https://colab.research.google.com/assets/colab-badge.svg\" alt=\"Open In Colab\"/></a>"
      ]
    },
    {
      "cell_type": "code",
      "execution_count": 1,
      "metadata": {
        "id": "muRmbZk7oBnI"
      },
      "outputs": [],
      "source": [
        "from nltk.stem import PorterStemmer\n",
        "stemming=PorterStemmer()"
      ]
    },
    {
      "cell_type": "code",
      "source": [
        "words=['go','goes','going','painting','paint','histroty','write','writing','sit','sitting']"
      ],
      "metadata": {
        "id": "en9Cxj0yoZRp"
      },
      "execution_count": 2,
      "outputs": []
    },
    {
      "cell_type": "code",
      "source": [
        "stemming.stem('fairly')"
      ],
      "metadata": {
        "colab": {
          "base_uri": "https://localhost:8080/",
          "height": 35
        },
        "id": "Z_9EwSpWrGlN",
        "outputId": "ed1efe87-19c8-4976-ce96-65a251aca3f5"
      },
      "execution_count": 17,
      "outputs": [
        {
          "output_type": "execute_result",
          "data": {
            "text/plain": [
              "'fairli'"
            ],
            "application/vnd.google.colaboratory.intrinsic+json": {
              "type": "string"
            }
          },
          "metadata": {},
          "execution_count": 17
        }
      ]
    },
    {
      "cell_type": "code",
      "source": [
        "for word in words:\n",
        "  print(word+\"--\"+stemming.stem(word))"
      ],
      "metadata": {
        "colab": {
          "base_uri": "https://localhost:8080/"
        },
        "id": "1Wq7hNmPo9Ni",
        "outputId": "a19f566a-48cf-4c09-fb88-1b80ed7240e1"
      },
      "execution_count": 3,
      "outputs": [
        {
          "output_type": "stream",
          "name": "stdout",
          "text": [
            "go--go\n",
            "goes--goe\n",
            "going--go\n",
            "painting--paint\n",
            "paint--paint\n",
            "histroty--histroti\n",
            "write--write\n",
            "writing--write\n",
            "sit--sit\n",
            "sitting--sit\n"
          ]
        }
      ]
    },
    {
      "cell_type": "markdown",
      "source": [
        "Regexp stemmer"
      ],
      "metadata": {
        "id": "FSmTVjiBpTMg"
      }
    },
    {
      "cell_type": "code",
      "source": [
        "from nltk.stem import RegexpStemmer\n",
        "stemmer=RegexpStemmer('ing$|s$|e$|able$',min=3)"
      ],
      "metadata": {
        "id": "sFEViIQkpI1Z"
      },
      "execution_count": 10,
      "outputs": []
    },
    {
      "cell_type": "code",
      "source": [
        "stemmer.stem('eating')\n",
        "stemmer.stem('fairly')"
      ],
      "metadata": {
        "colab": {
          "base_uri": "https://localhost:8080/",
          "height": 35
        },
        "id": "A2S7LAtOqFFq",
        "outputId": "d8e0d382-3152-4785-8b7b-dbd8095cfa80"
      },
      "execution_count": 16,
      "outputs": [
        {
          "output_type": "execute_result",
          "data": {
            "text/plain": [
              "'fairly'"
            ],
            "application/vnd.google.colaboratory.intrinsic+json": {
              "type": "string"
            }
          },
          "metadata": {},
          "execution_count": 16
        }
      ]
    },
    {
      "cell_type": "markdown",
      "source": [
        "##Snowball  stemmer"
      ],
      "metadata": {
        "id": "Cx9SpVXUqdJ0"
      }
    },
    {
      "cell_type": "code",
      "source": [
        "from nltk.stem import SnowballStemmer"
      ],
      "metadata": {
        "id": "q6DsvZ4EqLT3"
      },
      "execution_count": 12,
      "outputs": []
    },
    {
      "cell_type": "code",
      "source": [
        "snowball=SnowballStemmer(language='english')"
      ],
      "metadata": {
        "id": "DghU1UZEqtJw"
      },
      "execution_count": 13,
      "outputs": []
    },
    {
      "cell_type": "code",
      "source": [
        "for word in words:\n",
        "  print(word+\"--\"+snowball.stem(word))"
      ],
      "metadata": {
        "colab": {
          "base_uri": "https://localhost:8080/"
        },
        "id": "7VwtpuMDqxzd",
        "outputId": "d2b7fc2b-40a9-428f-9cd5-c64d855e1eb6"
      },
      "execution_count": 14,
      "outputs": [
        {
          "output_type": "stream",
          "name": "stdout",
          "text": [
            "go--go\n",
            "goes--goe\n",
            "going--go\n",
            "painting--paint\n",
            "paint--paint\n",
            "histroty--histroti\n",
            "write--write\n",
            "writing--write\n",
            "sit--sit\n",
            "sitting--sit\n"
          ]
        }
      ]
    },
    {
      "cell_type": "code",
      "source": [
        "print(snowball.stem('fairly'))"
      ],
      "metadata": {
        "colab": {
          "base_uri": "https://localhost:8080/"
        },
        "id": "G9rFJGE4q0FU",
        "outputId": "60a5ae4e-3b68-468a-ff20-279e0c8e0b34"
      },
      "execution_count": 15,
      "outputs": [
        {
          "output_type": "stream",
          "name": "stdout",
          "text": [
            "fair\n"
          ]
        }
      ]
    },
    {
      "cell_type": "code",
      "source": [],
      "metadata": {
        "id": "-im3v73tq-GV"
      },
      "execution_count": null,
      "outputs": []
    }
  ]
}